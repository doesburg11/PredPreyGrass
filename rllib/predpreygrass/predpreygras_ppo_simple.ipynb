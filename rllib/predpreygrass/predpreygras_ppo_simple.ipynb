{
 "cells": [
  {
   "cell_type": "markdown",
   "id": "48228240",
   "metadata": {},
   "source": [
    "An alternative and simplified PredPreyGrass environment\n"
   ]
  },
  {
   "cell_type": "code",
   "execution_count": 1,
   "id": "d28d6948",
   "metadata": {},
   "outputs": [
    {
     "name": "stdout",
     "output_type": "stream",
     "text": [
      "________\n",
      "|1.... |\n",
      "|....  |\n",
      "|.2..  |\n",
      "|...   |\n",
      "|      |\n",
      "|      |\n",
      "‾‾‾‾‾‾‾‾\n",
      "\n",
      "R1=-3.0\n",
      "R2=-3.9 (1 collisions)\n",
      "Env timesteps=50/50\n"
     ]
    }
   ],
   "source": [
    "from environments.predpreygrass_simple_env import MultiAgentArena\n",
    "from ray.rllib.algorithms.ppo import PPOConfig\n",
    "from ray.rllib.utils.pre_checks.env import check_env\n",
    "from ray.tune.registry import register_env\n",
    "from ray.rllib.policy.policy import PolicySpec\n",
    "from ray.tune.logger import pretty_print\n",
    "import ray\n",
    "from ray import train, tune\n",
    "\n",
    "import time\n",
    "#check_env(MultiAgentArena) # gives error\n",
    "\n",
    "config = (\n",
    "    PPOConfig()\n",
    "    .framework(\"torch\")\n",
    "    .rollouts(create_env_on_local_worker=True)\n",
    "    .debugging(seed=0, log_level=\"ERROR\")\n",
    "    .training(model={\"fcnet_hiddens\" : [64, 64]})\n",
    "    .environment(env=MultiAgentArena)\n",
    "    .multi_agent(\n",
    "        policies=[\"policy1\", \"policy2\"],\n",
    "        policy_mapping_fn=lambda agent_id, episode, worker, **kwargs: \"policy1\" if agent_id == \"agent1\" else \"policy2\"\n",
    "    )\n",
    ")\n",
    "\n",
    "algo = config.build()\n",
    "\n",
    "env = MultiAgentArena(config={\"render\": True})\n",
    "obs, _ = env.reset()\n",
    "truncateds = {\"__all__\" : False}\n",
    "\n",
    "while not truncateds[\"__all__\"]:\n",
    "    action1 = algo.compute_single_action(obs[\"agent1\"], policy_id=\"policy1\")\n",
    "    action2 = algo.compute_single_action(obs[\"agent2\"], policy_id=\"policy2\")\n",
    "\n",
    "    obs, rewards, terminateds, truncateds, infos = env.step({\"agent1\": action1, \"agent2\": action2})\n",
    "\n",
    "    env.render()\n",
    "    time.sleep(0.5)\n",
    "\n",
    "    \n",
    "algo.stop()"
   ]
  },
  {
   "cell_type": "code",
   "execution_count": 2,
   "id": "75b1a701",
   "metadata": {},
   "outputs": [
    {
     "name": "stdout",
     "output_type": "stream",
     "text": [
      "________\n",
      "|1.... |\n",
      "|....  |\n",
      "|.2..  |\n",
      "|...   |\n",
      "|      |\n",
      "|      |\n",
      "‾‾‾‾‾‾‾‾\n",
      "\n",
      "R1=-3.0\n",
      "R2=-3.9 (1 collisions)\n",
      "Env timesteps=50/50\n"
     ]
    }
   ],
   "source": [
    "def env_creator(env_config):\n",
    "    return MultiAgentArena(config=env_config)  # return an env instance\n",
    "\n",
    "register_env(\"multi_agent_arena\", env_creator)\n",
    "\n",
    "config = (\n",
    "    PPOConfig()\n",
    "    .framework(\"torch\")\n",
    "    .rollouts(create_env_on_local_worker=True)\n",
    "    .debugging(seed=0, log_level=\"ERROR\")\n",
    "    .training(model={\"fcnet_hiddens\" : [64, 64]})\n",
    "    .environment(env=\"multi_agent_arena\",)\n",
    "    .multi_agent(\n",
    "        policies=[\"policy1\", \"policy2\"],\n",
    "        policy_mapping_fn=lambda agent_id, episode, worker, **kwargs: \"policy1\" if agent_id == \"agent1\" else \"policy2\"\n",
    "    )\n",
    ")\n",
    "\n",
    "algo = config.build()\n",
    "\n",
    "env = MultiAgentArena(config={\"render\": True})\n",
    "obs, _ = env.reset()\n",
    "truncateds = {\"__all__\" : False}\n",
    "    \n",
    "while not truncateds[\"__all__\"]:\n",
    "\n",
    "    action1 = algo.compute_single_action(obs[\"agent1\"], policy_id=\"policy1\")\n",
    "    action2 = algo.compute_single_action(obs[\"agent2\"], policy_id=\"policy2\")\n",
    "\n",
    "    obs, rewards, terminateds, truncateds, infos = env.step({\"agent1\": action1, \"agent2\": action2})\n",
    "\n",
    "    env.render()\n",
    "    time.sleep(0.5)\n",
    "    \n",
    "algo.stop()"
   ]
  },
  {
   "cell_type": "code",
   "execution_count": 3,
   "id": "13a0427c",
   "metadata": {},
   "outputs": [
    {
     "name": "stdout",
     "output_type": "stream",
     "text": [
      "________\n",
      "|1.... |\n",
      "|....  |\n",
      "|.2..  |\n",
      "|...   |\n",
      "|      |\n",
      "|      |\n",
      "‾‾‾‾‾‾‾‾\n",
      "\n",
      "R1=-3.0\n",
      "R2=-3.9 (1 collisions)\n",
      "Env timesteps=50/50\n"
     ]
    }
   ],
   "source": [
    "#define policies in dict with PolicySpec\n",
    "def env_creator(env_config):\n",
    "    return MultiAgentArena(config=env_config)  # return an env instance\n",
    "\n",
    "register_env(\"multi_agent_arena\", env_creator)\n",
    "\n",
    "policies = { \"policy1\": PolicySpec(), \"policy2\": PolicySpec() }\n",
    "\n",
    "config = (\n",
    "    PPOConfig()\n",
    "    .environment(env=\"multi_agent_arena\")\n",
    "    .framework(\"torch\")\n",
    "    .rollouts(create_env_on_local_worker=True)\n",
    "    .debugging(seed=0,log_level=\"ERROR\")\n",
    "    .training(model={\"fcnet_hiddens\" : [64, 64]})\n",
    "    .multi_agent(\n",
    "        policies=policies,\n",
    "        policy_mapping_fn=lambda agent_id, episode, worker, **kwargs: \"policy1\" if agent_id == \"agent1\" else \"policy2\"\n",
    "    )\n",
    ")\n",
    "\n",
    "algo = config.build()\n",
    "\n",
    "env = MultiAgentArena(config={\"render\": True})\n",
    "obs, _ = env.reset()\n",
    "truncateds = {\"__all__\" : False}\n",
    "    \n",
    "while not truncateds[\"__all__\"]:\n",
    "\n",
    "    action1 = algo.compute_single_action(obs[\"agent1\"], policy_id=\"policy1\")\n",
    "    action2 = algo.compute_single_action(obs[\"agent2\"], policy_id=\"policy2\")\n",
    "\n",
    "    obs, rewards, terminateds, truncateds, infos = env.step({\"agent1\": action1, \"agent2\": action2})\n",
    "\n",
    "    env.render()\n",
    "    time.sleep(0.5)\n",
    "    \n",
    "algo.stop()"
   ]
  }
 ],
 "metadata": {
  "jupytext": {
   "cell_metadata_filter": "-all",
   "main_language": "python",
   "notebook_metadata_filter": "-all"
  },
  "kernelspec": {
   "display_name": "Python 3",
   "language": "python",
   "name": "python3"
  },
  "language_info": {
   "codemirror_mode": {
    "name": "ipython",
    "version": 3
   },
   "file_extension": ".py",
   "mimetype": "text/x-python",
   "name": "python",
   "nbconvert_exporter": "python",
   "pygments_lexer": "ipython3",
   "version": "3.11.7"
  }
 },
 "nbformat": 4,
 "nbformat_minor": 5
}
