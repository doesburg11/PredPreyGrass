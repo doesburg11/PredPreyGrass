{
  "cells": [
    {
      "cell_type": "markdown",
      "metadata": {
        "id": "view-in-github",
        "colab_type": "text"
      },
      "source": [
        "<a href=\"https://colab.research.google.com/github/doesburg11/PredPreyGrass/blob/main/predpreygrass.ipynb\" target=\"_parent\"><img src=\"https://colab.research.google.com/assets/colab-badge.svg\" alt=\"Open In Colab\"/></a>"
      ]
    },
    {
      "cell_type": "markdown",
      "source": [
        "# Predator-Prey-Grass MARL\n",
        "\n",
        "A Predator-Prey-Grass multi-agent gridworld environment implemented with Farama's Gymnasium, PettingZoo and MOMAland. Featuring dynamic spawning and deletion and partial observability of agents.\n",
        "\n",
        "Author: Peter van Doesburg\n",
        "\n",
        "https://github.com/doesburg11/PredPreyGrass\n",
        "\n"
      ],
      "metadata": {
        "id": "Ovnzh88NsJ2u"
      },
      "id": "Ovnzh88NsJ2u"
    },
    {
      "cell_type": "markdown",
      "id": "ab7f2ffc",
      "metadata": {
        "id": "ab7f2ffc"
      },
      "source": [
        "## Step 1: Clone the PredPreyGrass repository from GitHub"
      ]
    },
    {
      "cell_type": "code",
      "source": [
        "!git clone https://github.com/doesburg11/PredPreyGrass.git # > /dev/null 2>&1"
      ],
      "metadata": {
        "id": "YxckAE2D604P",
        "colab": {
          "base_uri": "https://localhost:8080/"
        },
        "outputId": "516a99ce-6a03-4d86-ab8a-808b30e61e83"
      },
      "id": "YxckAE2D604P",
      "execution_count": 1,
      "outputs": [
        {
          "output_type": "stream",
          "name": "stdout",
          "text": [
            "Cloning into 'PredPreyGrass'...\n",
            "remote: Enumerating objects: 19127, done.\u001b[K\n",
            "remote: Counting objects: 100% (658/658), done.\u001b[K\n",
            "remote: Compressing objects: 100% (243/243), done.\u001b[K\n",
            "remote: Total 19127 (delta 540), reused 491 (delta 409), pack-reused 18469 (from 4)\u001b[K\n",
            "Receiving objects: 100% (19127/19127), 433.21 MiB | 19.26 MiB/s, done.\n",
            "Resolving deltas: 100% (12188/12188), done.\n"
          ]
        }
      ]
    },
    {
      "cell_type": "markdown",
      "source": [
        "## Step 2: Install the PredPreyGrass package"
      ],
      "metadata": {
        "id": "ijd03JF48uCL"
      },
      "id": "ijd03JF48uCL"
    },
    {
      "cell_type": "code",
      "execution_count": 2,
      "id": "846b9364",
      "metadata": {
        "id": "846b9364",
        "colab": {
          "base_uri": "https://localhost:8080/"
        },
        "outputId": "c9097c64-1eec-43c2-ecf9-4151cac39ade"
      },
      "outputs": [
        {
          "output_type": "stream",
          "name": "stdout",
          "text": [
            "/content/PredPreyGrass\n"
          ]
        }
      ],
      "source": [
        "%cd PredPreyGrass"
      ]
    },
    {
      "cell_type": "code",
      "source": [
        "!pip install -e . # > /dev/null 2>&1"
      ],
      "metadata": {
        "id": "ILYF_q_11qFn",
        "colab": {
          "base_uri": "https://localhost:8080/"
        },
        "outputId": "1aa6b4cb-6248-4ad9-aa9b-a2097cb7f7c0"
      },
      "id": "ILYF_q_11qFn",
      "execution_count": 3,
      "outputs": [
        {
          "output_type": "stream",
          "name": "stdout",
          "text": [
            "Obtaining file:///content/PredPreyGrass\n",
            "  Preparing metadata (setup.py) ... \u001b[?25l\u001b[?25hdone\n",
            "Collecting pettingzoo (from PredPreyGrass==0.1)\n",
            "  Downloading pettingzoo-1.24.3-py3-none-any.whl.metadata (8.5 kB)\n",
            "Collecting stable_baselines3 (from PredPreyGrass==0.1)\n",
            "  Downloading stable_baselines3-2.4.0-py3-none-any.whl.metadata (4.5 kB)\n",
            "Requirement already satisfied: numpy in /usr/local/lib/python3.10/dist-packages (from PredPreyGrass==0.1) (1.26.4)\n",
            "Requirement already satisfied: pygame in /usr/local/lib/python3.10/dist-packages (from PredPreyGrass==0.1) (2.6.1)\n",
            "Collecting gymnasium>=0.28.0 (from pettingzoo->PredPreyGrass==0.1)\n",
            "  Downloading gymnasium-1.0.0-py3-none-any.whl.metadata (9.5 kB)\n",
            "Requirement already satisfied: torch>=1.13 in /usr/local/lib/python3.10/dist-packages (from stable_baselines3->PredPreyGrass==0.1) (2.5.1+cu121)\n",
            "Requirement already satisfied: cloudpickle in /usr/local/lib/python3.10/dist-packages (from stable_baselines3->PredPreyGrass==0.1) (3.1.0)\n",
            "Requirement already satisfied: pandas in /usr/local/lib/python3.10/dist-packages (from stable_baselines3->PredPreyGrass==0.1) (2.2.2)\n",
            "Requirement already satisfied: matplotlib in /usr/local/lib/python3.10/dist-packages (from stable_baselines3->PredPreyGrass==0.1) (3.8.0)\n",
            "Requirement already satisfied: typing-extensions>=4.3.0 in /usr/local/lib/python3.10/dist-packages (from gymnasium>=0.28.0->pettingzoo->PredPreyGrass==0.1) (4.12.2)\n",
            "Collecting farama-notifications>=0.0.1 (from gymnasium>=0.28.0->pettingzoo->PredPreyGrass==0.1)\n",
            "  Downloading Farama_Notifications-0.0.4-py3-none-any.whl.metadata (558 bytes)\n",
            "Requirement already satisfied: filelock in /usr/local/lib/python3.10/dist-packages (from torch>=1.13->stable_baselines3->PredPreyGrass==0.1) (3.16.1)\n",
            "Requirement already satisfied: networkx in /usr/local/lib/python3.10/dist-packages (from torch>=1.13->stable_baselines3->PredPreyGrass==0.1) (3.4.2)\n",
            "Requirement already satisfied: jinja2 in /usr/local/lib/python3.10/dist-packages (from torch>=1.13->stable_baselines3->PredPreyGrass==0.1) (3.1.4)\n",
            "Requirement already satisfied: fsspec in /usr/local/lib/python3.10/dist-packages (from torch>=1.13->stable_baselines3->PredPreyGrass==0.1) (2024.10.0)\n",
            "Requirement already satisfied: sympy==1.13.1 in /usr/local/lib/python3.10/dist-packages (from torch>=1.13->stable_baselines3->PredPreyGrass==0.1) (1.13.1)\n",
            "Requirement already satisfied: mpmath<1.4,>=1.1.0 in /usr/local/lib/python3.10/dist-packages (from sympy==1.13.1->torch>=1.13->stable_baselines3->PredPreyGrass==0.1) (1.3.0)\n",
            "Requirement already satisfied: contourpy>=1.0.1 in /usr/local/lib/python3.10/dist-packages (from matplotlib->stable_baselines3->PredPreyGrass==0.1) (1.3.1)\n",
            "Requirement already satisfied: cycler>=0.10 in /usr/local/lib/python3.10/dist-packages (from matplotlib->stable_baselines3->PredPreyGrass==0.1) (0.12.1)\n",
            "Requirement already satisfied: fonttools>=4.22.0 in /usr/local/lib/python3.10/dist-packages (from matplotlib->stable_baselines3->PredPreyGrass==0.1) (4.55.3)\n",
            "Requirement already satisfied: kiwisolver>=1.0.1 in /usr/local/lib/python3.10/dist-packages (from matplotlib->stable_baselines3->PredPreyGrass==0.1) (1.4.7)\n",
            "Requirement already satisfied: packaging>=20.0 in /usr/local/lib/python3.10/dist-packages (from matplotlib->stable_baselines3->PredPreyGrass==0.1) (24.2)\n",
            "Requirement already satisfied: pillow>=6.2.0 in /usr/local/lib/python3.10/dist-packages (from matplotlib->stable_baselines3->PredPreyGrass==0.1) (11.0.0)\n",
            "Requirement already satisfied: pyparsing>=2.3.1 in /usr/local/lib/python3.10/dist-packages (from matplotlib->stable_baselines3->PredPreyGrass==0.1) (3.2.0)\n",
            "Requirement already satisfied: python-dateutil>=2.7 in /usr/local/lib/python3.10/dist-packages (from matplotlib->stable_baselines3->PredPreyGrass==0.1) (2.8.2)\n",
            "Requirement already satisfied: pytz>=2020.1 in /usr/local/lib/python3.10/dist-packages (from pandas->stable_baselines3->PredPreyGrass==0.1) (2024.2)\n",
            "Requirement already satisfied: tzdata>=2022.7 in /usr/local/lib/python3.10/dist-packages (from pandas->stable_baselines3->PredPreyGrass==0.1) (2024.2)\n",
            "Requirement already satisfied: six>=1.5 in /usr/local/lib/python3.10/dist-packages (from python-dateutil>=2.7->matplotlib->stable_baselines3->PredPreyGrass==0.1) (1.17.0)\n",
            "Requirement already satisfied: MarkupSafe>=2.0 in /usr/local/lib/python3.10/dist-packages (from jinja2->torch>=1.13->stable_baselines3->PredPreyGrass==0.1) (3.0.2)\n",
            "Downloading pettingzoo-1.24.3-py3-none-any.whl (847 kB)\n",
            "\u001b[2K   \u001b[90m━━━━━━━━━━━━━━━━━━━━━━━━━━━━━━━━━━━━━━━━\u001b[0m \u001b[32m847.8/847.8 kB\u001b[0m \u001b[31m11.5 MB/s\u001b[0m eta \u001b[36m0:00:00\u001b[0m\n",
            "\u001b[?25hDownloading stable_baselines3-2.4.0-py3-none-any.whl (183 kB)\n",
            "\u001b[2K   \u001b[90m━━━━━━━━━━━━━━━━━━━━━━━━━━━━━━━━━━━━━━━━\u001b[0m \u001b[32m183.9/183.9 kB\u001b[0m \u001b[31m13.4 MB/s\u001b[0m eta \u001b[36m0:00:00\u001b[0m\n",
            "\u001b[?25hDownloading gymnasium-1.0.0-py3-none-any.whl (958 kB)\n",
            "\u001b[2K   \u001b[90m━━━━━━━━━━━━━━━━━━━━━━━━━━━━━━━━━━━━━━━━\u001b[0m \u001b[32m958.1/958.1 kB\u001b[0m \u001b[31m39.7 MB/s\u001b[0m eta \u001b[36m0:00:00\u001b[0m\n",
            "\u001b[?25hDownloading Farama_Notifications-0.0.4-py3-none-any.whl (2.5 kB)\n",
            "Installing collected packages: farama-notifications, gymnasium, pettingzoo, stable_baselines3, PredPreyGrass\n",
            "  Running setup.py develop for PredPreyGrass\n",
            "Successfully installed PredPreyGrass-0.1 farama-notifications-0.0.4 gymnasium-1.0.0 pettingzoo-1.24.3 stable_baselines3-2.4.0\n"
          ]
        }
      ]
    },
    {
      "cell_type": "markdown",
      "source": [
        "## Step 3: Install additional requirements"
      ],
      "metadata": {
        "id": "1cl0jQi38asS"
      },
      "id": "1cl0jQi38asS"
    },
    {
      "cell_type": "code",
      "source": [
        "!pip install supersuit==3.9.3 # >  /dev/null 2>&1\n",
        "!pip install tensorboard==2.18.0 # > /dev/null 2>&1\n",
        "!pip install stable-baselines3[extra] # > /dev/null 2>&1"
      ],
      "metadata": {
        "id": "YT-fCJUcAfdR",
        "colab": {
          "base_uri": "https://localhost:8080/"
        },
        "outputId": "33fdd38b-9597-4b10-91ec-abfb062953c2"
      },
      "id": "YT-fCJUcAfdR",
      "execution_count": 4,
      "outputs": [
        {
          "output_type": "stream",
          "name": "stdout",
          "text": [
            "Collecting supersuit==3.9.3\n",
            "  Downloading SuperSuit-3.9.3-py3-none-any.whl.metadata (3.2 kB)\n",
            "Requirement already satisfied: numpy>=1.19.0 in /usr/local/lib/python3.10/dist-packages (from supersuit==3.9.3) (1.26.4)\n",
            "Requirement already satisfied: gymnasium>=0.28.1 in /usr/local/lib/python3.10/dist-packages (from supersuit==3.9.3) (1.0.0)\n",
            "Collecting tinyscaler>=1.2.6 (from supersuit==3.9.3)\n",
            "  Downloading tinyscaler-1.2.8-cp310-cp310-manylinux_2_17_x86_64.manylinux2014_x86_64.whl.metadata (4.2 kB)\n",
            "Requirement already satisfied: cloudpickle>=1.2.0 in /usr/local/lib/python3.10/dist-packages (from gymnasium>=0.28.1->supersuit==3.9.3) (3.1.0)\n",
            "Requirement already satisfied: typing-extensions>=4.3.0 in /usr/local/lib/python3.10/dist-packages (from gymnasium>=0.28.1->supersuit==3.9.3) (4.12.2)\n",
            "Requirement already satisfied: farama-notifications>=0.0.1 in /usr/local/lib/python3.10/dist-packages (from gymnasium>=0.28.1->supersuit==3.9.3) (0.0.4)\n",
            "Downloading SuperSuit-3.9.3-py3-none-any.whl (50 kB)\n",
            "\u001b[?25l   \u001b[90m━━━━━━━━━━━━━━━━━━━━━━━━━━━━━━━━━━━━━━━━\u001b[0m \u001b[32m0.0/50.2 kB\u001b[0m \u001b[31m?\u001b[0m eta \u001b[36m-:--:--\u001b[0m\r\u001b[2K   \u001b[90m━━━━━━━━━━━━━━━━━━━━━━━━━━━━━━━━━━━━━━━━\u001b[0m \u001b[32m50.2/50.2 kB\u001b[0m \u001b[31m2.2 MB/s\u001b[0m eta \u001b[36m0:00:00\u001b[0m\n",
            "\u001b[?25hDownloading tinyscaler-1.2.8-cp310-cp310-manylinux_2_17_x86_64.manylinux2014_x86_64.whl (522 kB)\n",
            "\u001b[?25l   \u001b[90m━━━━━━━━━━━━━━━━━━━━━━━━━━━━━━━━━━━━━━━━\u001b[0m \u001b[32m0.0/522.8 kB\u001b[0m \u001b[31m?\u001b[0m eta \u001b[36m-:--:--\u001b[0m\r\u001b[2K   \u001b[91m━━━━━━━━━━━━━━━━━━━━━\u001b[0m\u001b[90m╺\u001b[0m\u001b[90m━━━━━━━━━━━━━━━━━━\u001b[0m \u001b[32m276.5/522.8 kB\u001b[0m \u001b[31m8.0 MB/s\u001b[0m eta \u001b[36m0:00:01\u001b[0m\r\u001b[2K   \u001b[90m━━━━━━━━━━━━━━━━━━━━━━━━━━━━━━━━━━━━━━━━\u001b[0m \u001b[32m522.8/522.8 kB\u001b[0m \u001b[31m8.9 MB/s\u001b[0m eta \u001b[36m0:00:00\u001b[0m\n",
            "\u001b[?25hInstalling collected packages: tinyscaler, supersuit\n",
            "Successfully installed supersuit-3.9.3 tinyscaler-1.2.8\n",
            "Collecting tensorboard==2.18.0\n",
            "  Downloading tensorboard-2.18.0-py3-none-any.whl.metadata (1.6 kB)\n",
            "Requirement already satisfied: absl-py>=0.4 in /usr/local/lib/python3.10/dist-packages (from tensorboard==2.18.0) (1.4.0)\n",
            "Requirement already satisfied: grpcio>=1.48.2 in /usr/local/lib/python3.10/dist-packages (from tensorboard==2.18.0) (1.68.1)\n",
            "Requirement already satisfied: markdown>=2.6.8 in /usr/local/lib/python3.10/dist-packages (from tensorboard==2.18.0) (3.7)\n",
            "Requirement already satisfied: numpy>=1.12.0 in /usr/local/lib/python3.10/dist-packages (from tensorboard==2.18.0) (1.26.4)\n",
            "Requirement already satisfied: packaging in /usr/local/lib/python3.10/dist-packages (from tensorboard==2.18.0) (24.2)\n",
            "Requirement already satisfied: protobuf!=4.24.0,>=3.19.6 in /usr/local/lib/python3.10/dist-packages (from tensorboard==2.18.0) (4.25.5)\n",
            "Requirement already satisfied: setuptools>=41.0.0 in /usr/local/lib/python3.10/dist-packages (from tensorboard==2.18.0) (75.1.0)\n",
            "Requirement already satisfied: six>1.9 in /usr/local/lib/python3.10/dist-packages (from tensorboard==2.18.0) (1.17.0)\n",
            "Requirement already satisfied: tensorboard-data-server<0.8.0,>=0.7.0 in /usr/local/lib/python3.10/dist-packages (from tensorboard==2.18.0) (0.7.2)\n",
            "Requirement already satisfied: werkzeug>=1.0.1 in /usr/local/lib/python3.10/dist-packages (from tensorboard==2.18.0) (3.1.3)\n",
            "Requirement already satisfied: MarkupSafe>=2.1.1 in /usr/local/lib/python3.10/dist-packages (from werkzeug>=1.0.1->tensorboard==2.18.0) (3.0.2)\n",
            "Downloading tensorboard-2.18.0-py3-none-any.whl (5.5 MB)\n",
            "\u001b[2K   \u001b[90m━━━━━━━━━━━━━━━━━━━━━━━━━━━━━━━━━━━━━━━━\u001b[0m \u001b[32m5.5/5.5 MB\u001b[0m \u001b[31m39.5 MB/s\u001b[0m eta \u001b[36m0:00:00\u001b[0m\n",
            "\u001b[?25hInstalling collected packages: tensorboard\n",
            "  Attempting uninstall: tensorboard\n",
            "    Found existing installation: tensorboard 2.17.1\n",
            "    Uninstalling tensorboard-2.17.1:\n",
            "      Successfully uninstalled tensorboard-2.17.1\n",
            "\u001b[31mERROR: pip's dependency resolver does not currently take into account all the packages that are installed. This behaviour is the source of the following dependency conflicts.\n",
            "tensorflow 2.17.1 requires tensorboard<2.18,>=2.17, but you have tensorboard 2.18.0 which is incompatible.\u001b[0m\u001b[31m\n",
            "\u001b[0mSuccessfully installed tensorboard-2.18.0\n",
            "Requirement already satisfied: stable-baselines3[extra] in /usr/local/lib/python3.10/dist-packages (2.4.0)\n",
            "Requirement already satisfied: gymnasium<1.1.0,>=0.29.1 in /usr/local/lib/python3.10/dist-packages (from stable-baselines3[extra]) (1.0.0)\n",
            "Requirement already satisfied: numpy<2.0,>=1.20 in /usr/local/lib/python3.10/dist-packages (from stable-baselines3[extra]) (1.26.4)\n",
            "Requirement already satisfied: torch>=1.13 in /usr/local/lib/python3.10/dist-packages (from stable-baselines3[extra]) (2.5.1+cu121)\n",
            "Requirement already satisfied: cloudpickle in /usr/local/lib/python3.10/dist-packages (from stable-baselines3[extra]) (3.1.0)\n",
            "Requirement already satisfied: pandas in /usr/local/lib/python3.10/dist-packages (from stable-baselines3[extra]) (2.2.2)\n",
            "Requirement already satisfied: matplotlib in /usr/local/lib/python3.10/dist-packages (from stable-baselines3[extra]) (3.8.0)\n",
            "Requirement already satisfied: opencv-python in /usr/local/lib/python3.10/dist-packages (from stable-baselines3[extra]) (4.10.0.84)\n",
            "Requirement already satisfied: pygame in /usr/local/lib/python3.10/dist-packages (from stable-baselines3[extra]) (2.6.1)\n",
            "Requirement already satisfied: tensorboard>=2.9.1 in /usr/local/lib/python3.10/dist-packages (from stable-baselines3[extra]) (2.18.0)\n",
            "Requirement already satisfied: psutil in /usr/local/lib/python3.10/dist-packages (from stable-baselines3[extra]) (5.9.5)\n",
            "Requirement already satisfied: tqdm in /usr/local/lib/python3.10/dist-packages (from stable-baselines3[extra]) (4.67.1)\n",
            "Requirement already satisfied: rich in /usr/local/lib/python3.10/dist-packages (from stable-baselines3[extra]) (13.9.4)\n",
            "Collecting ale-py>=0.9.0 (from stable-baselines3[extra])\n",
            "  Downloading ale_py-0.10.1-cp310-cp310-manylinux_2_17_x86_64.manylinux2014_x86_64.whl.metadata (7.6 kB)\n",
            "Requirement already satisfied: pillow in /usr/local/lib/python3.10/dist-packages (from stable-baselines3[extra]) (11.0.0)\n",
            "Requirement already satisfied: typing-extensions in /usr/local/lib/python3.10/dist-packages (from ale-py>=0.9.0->stable-baselines3[extra]) (4.12.2)\n",
            "Requirement already satisfied: farama-notifications>=0.0.1 in /usr/local/lib/python3.10/dist-packages (from gymnasium<1.1.0,>=0.29.1->stable-baselines3[extra]) (0.0.4)\n",
            "Requirement already satisfied: absl-py>=0.4 in /usr/local/lib/python3.10/dist-packages (from tensorboard>=2.9.1->stable-baselines3[extra]) (1.4.0)\n",
            "Requirement already satisfied: grpcio>=1.48.2 in /usr/local/lib/python3.10/dist-packages (from tensorboard>=2.9.1->stable-baselines3[extra]) (1.68.1)\n",
            "Requirement already satisfied: markdown>=2.6.8 in /usr/local/lib/python3.10/dist-packages (from tensorboard>=2.9.1->stable-baselines3[extra]) (3.7)\n",
            "Requirement already satisfied: packaging in /usr/local/lib/python3.10/dist-packages (from tensorboard>=2.9.1->stable-baselines3[extra]) (24.2)\n",
            "Requirement already satisfied: protobuf!=4.24.0,>=3.19.6 in /usr/local/lib/python3.10/dist-packages (from tensorboard>=2.9.1->stable-baselines3[extra]) (4.25.5)\n",
            "Requirement already satisfied: setuptools>=41.0.0 in /usr/local/lib/python3.10/dist-packages (from tensorboard>=2.9.1->stable-baselines3[extra]) (75.1.0)\n",
            "Requirement already satisfied: six>1.9 in /usr/local/lib/python3.10/dist-packages (from tensorboard>=2.9.1->stable-baselines3[extra]) (1.17.0)\n",
            "Requirement already satisfied: tensorboard-data-server<0.8.0,>=0.7.0 in /usr/local/lib/python3.10/dist-packages (from tensorboard>=2.9.1->stable-baselines3[extra]) (0.7.2)\n",
            "Requirement already satisfied: werkzeug>=1.0.1 in /usr/local/lib/python3.10/dist-packages (from tensorboard>=2.9.1->stable-baselines3[extra]) (3.1.3)\n",
            "Requirement already satisfied: filelock in /usr/local/lib/python3.10/dist-packages (from torch>=1.13->stable-baselines3[extra]) (3.16.1)\n",
            "Requirement already satisfied: networkx in /usr/local/lib/python3.10/dist-packages (from torch>=1.13->stable-baselines3[extra]) (3.4.2)\n",
            "Requirement already satisfied: jinja2 in /usr/local/lib/python3.10/dist-packages (from torch>=1.13->stable-baselines3[extra]) (3.1.4)\n",
            "Requirement already satisfied: fsspec in /usr/local/lib/python3.10/dist-packages (from torch>=1.13->stable-baselines3[extra]) (2024.10.0)\n",
            "Requirement already satisfied: sympy==1.13.1 in /usr/local/lib/python3.10/dist-packages (from torch>=1.13->stable-baselines3[extra]) (1.13.1)\n",
            "Requirement already satisfied: mpmath<1.4,>=1.1.0 in /usr/local/lib/python3.10/dist-packages (from sympy==1.13.1->torch>=1.13->stable-baselines3[extra]) (1.3.0)\n",
            "Requirement already satisfied: contourpy>=1.0.1 in /usr/local/lib/python3.10/dist-packages (from matplotlib->stable-baselines3[extra]) (1.3.1)\n",
            "Requirement already satisfied: cycler>=0.10 in /usr/local/lib/python3.10/dist-packages (from matplotlib->stable-baselines3[extra]) (0.12.1)\n",
            "Requirement already satisfied: fonttools>=4.22.0 in /usr/local/lib/python3.10/dist-packages (from matplotlib->stable-baselines3[extra]) (4.55.3)\n",
            "Requirement already satisfied: kiwisolver>=1.0.1 in /usr/local/lib/python3.10/dist-packages (from matplotlib->stable-baselines3[extra]) (1.4.7)\n",
            "Requirement already satisfied: pyparsing>=2.3.1 in /usr/local/lib/python3.10/dist-packages (from matplotlib->stable-baselines3[extra]) (3.2.0)\n",
            "Requirement already satisfied: python-dateutil>=2.7 in /usr/local/lib/python3.10/dist-packages (from matplotlib->stable-baselines3[extra]) (2.8.2)\n",
            "Requirement already satisfied: pytz>=2020.1 in /usr/local/lib/python3.10/dist-packages (from pandas->stable-baselines3[extra]) (2024.2)\n",
            "Requirement already satisfied: tzdata>=2022.7 in /usr/local/lib/python3.10/dist-packages (from pandas->stable-baselines3[extra]) (2024.2)\n",
            "Requirement already satisfied: markdown-it-py>=2.2.0 in /usr/local/lib/python3.10/dist-packages (from rich->stable-baselines3[extra]) (3.0.0)\n",
            "Requirement already satisfied: pygments<3.0.0,>=2.13.0 in /usr/local/lib/python3.10/dist-packages (from rich->stable-baselines3[extra]) (2.18.0)\n",
            "Requirement already satisfied: mdurl~=0.1 in /usr/local/lib/python3.10/dist-packages (from markdown-it-py>=2.2.0->rich->stable-baselines3[extra]) (0.1.2)\n",
            "Requirement already satisfied: MarkupSafe>=2.1.1 in /usr/local/lib/python3.10/dist-packages (from werkzeug>=1.0.1->tensorboard>=2.9.1->stable-baselines3[extra]) (3.0.2)\n",
            "Downloading ale_py-0.10.1-cp310-cp310-manylinux_2_17_x86_64.manylinux2014_x86_64.whl (2.1 MB)\n",
            "\u001b[2K   \u001b[90m━━━━━━━━━━━━━━━━━━━━━━━━━━━━━━━━━━━━━━━━\u001b[0m \u001b[32m2.1/2.1 MB\u001b[0m \u001b[31m21.2 MB/s\u001b[0m eta \u001b[36m0:00:00\u001b[0m\n",
            "\u001b[?25hInstalling collected packages: ale-py\n",
            "Successfully installed ale-py-0.10.1\n"
          ]
        }
      ]
    },
    {
      "cell_type": "code",
      "source": [
        "%env XDG_RUNTIME_DIR=/tmp/runtime-dir\n",
        "!mkdir -p /tmp/runtime-dir"
      ],
      "metadata": {
        "id": "zbryBHjp46qa",
        "colab": {
          "base_uri": "https://localhost:8080/"
        },
        "outputId": "1091f0e1-4c6c-4cc0-8147-7a58e3b7541c"
      },
      "id": "zbryBHjp46qa",
      "execution_count": 5,
      "outputs": [
        {
          "output_type": "stream",
          "name": "stdout",
          "text": [
            "env: XDG_RUNTIME_DIR=/tmp/runtime-dir\n"
          ]
        }
      ]
    },
    {
      "cell_type": "markdown",
      "source": [
        "## Step 4: Evaluate the environment with a random policy"
      ],
      "metadata": {
        "id": "gFh0qUmP9ttl"
      },
      "id": "gFh0qUmP9ttl"
    },
    {
      "cell_type": "markdown",
      "source": [
        "The configuration of the environment can be adjusted in:  /content/PredPreyGrass/predpreygrass/single_objective/config/config_predpreygrass.py"
      ],
      "metadata": {
        "id": "80nHZzUVi0Yg"
      },
      "id": "80nHZzUVi0Yg"
    },
    {
      "cell_type": "code",
      "source": [
        "!python predpreygrass/single_objective/eval/evaluate_random_policy.py"
      ],
      "metadata": {
        "id": "0t-mlI7SB2jT",
        "colab": {
          "base_uri": "https://localhost:8080/"
        },
        "outputId": "5ce67198-fe2c-4942-c43d-107d047f4b63"
      },
      "id": "0t-mlI7SB2jT",
      "execution_count": 6,
      "outputs": [
        {
          "output_type": "stream",
          "name": "stdout",
          "text": [
            "agent: prey_42, reward: 10.0\n",
            "agent: prey_41, reward: 10.0\n",
            "agent: prey_46, reward: 10.0\n",
            "agent: prey_98, reward: 10.0\n",
            "agent: prey_44, reward: 10.0\n",
            "agent: prey_99, reward: 10.0\n"
          ]
        }
      ]
    },
    {
      "cell_type": "markdown",
      "source": [
        "## Step 5: Train model and save to file"
      ],
      "metadata": {
        "id": "qbQ00o25-8C5"
      },
      "id": "qbQ00o25-8C5"
    },
    {
      "cell_type": "code",
      "source": [
        "!python predpreygrass/single_objective/train/train_ppo_parallel_wrapped_aec_env.py"
      ],
      "metadata": {
        "colab": {
          "base_uri": "https://localhost:8080/"
        },
        "id": "5YHXfKfEzHwh",
        "outputId": "f83f4c30-996f-4c09-ddc6-7ee696930eb3"
      },
      "id": "5YHXfKfEzHwh",
      "execution_count": 7,
      "outputs": [
        {
          "output_type": "stream",
          "name": "stdout",
          "text": [
            "2025-01-05 18:38:41.754508: E external/local_xla/xla/stream_executor/cuda/cuda_fft.cc:485] Unable to register cuFFT factory: Attempting to register factory for plugin cuFFT when one has already been registered\n",
            "2025-01-05 18:38:41.785279: E external/local_xla/xla/stream_executor/cuda/cuda_dnn.cc:8454] Unable to register cuDNN factory: Attempting to register factory for plugin cuDNN when one has already been registered\n",
            "2025-01-05 18:38:41.793219: E external/local_xla/xla/stream_executor/cuda/cuda_blas.cc:1452] Unable to register cuBLAS factory: Attempting to register factory for plugin cuBLAS when one has already been registered\n",
            "2025-01-05 18:38:41.813531: I tensorflow/core/platform/cpu_feature_guard.cc:210] This TensorFlow binary is optimized to use available CPU instructions in performance-critical operations.\n",
            "To enable the following instructions: AVX2 FMA, in other operations, rebuild TensorFlow with the appropriate compiler flags.\n",
            "2025-01-05 18:38:43.133228: W tensorflow/compiler/tf2tensorrt/utils/py_utils.cc:38] TF-TRT Warning: Could not find TensorRT\n",
            "-----------------------------------------------------------------------------\n",
            "Destination source code: /content/PredPreyGrass/output/2025-01-05_18:38:46\n",
            "Configuration file directory: /content/PredPreyGrass/output/2025-01-05_18:38:46/config/\n",
            "-----------------------------------------------------------------------------\n",
            "Number of CPU cores utilized: 2\n",
            "Starting training on predpreygrass_aec_v0.\n",
            "\u001b[2K\u001b[35m 100%\u001b[0m \u001b[90m━━━━━━━━━━━━━━━━━━━━━━━━━━━━━━━━━━━━━━━━━━\u001b[0m \u001b[32m4,096,000/4,096,000 \u001b[0m [ \u001b[33m0:50:10\u001b[0m < \u001b[36m0:00:00\u001b[0m , \u001b[31m? it/s\u001b[0m ]\n",
            "\u001b[?25hSaved model to: /content/PredPreyGrass/output/2025-01-05_18:38:46/output/predpreygrass_aec_v0_steps_11_468_800.zip\n",
            "Model has been saved.\n",
            "Finished training on predpreygrass_aec_v0.\n"
          ]
        }
      ]
    },
    {
      "cell_type": "markdown",
      "source": [
        "## Step 6: Evaluation trained model from file"
      ],
      "metadata": {
        "id": "Q4gpfPJzrLS3"
      },
      "id": "Q4gpfPJzrLS3"
    },
    {
      "cell_type": "markdown",
      "source": [
        "The trained model is now saved to a zip file on Colab, along with the file structure and configuration. To evaluate this model and the asociated configuration, manually fill in the correct timestamp below."
      ],
      "metadata": {
        "id": "E-3xTQrArh74"
      },
      "id": "E-3xTQrArh74"
    },
    {
      "cell_type": "code",
      "source": [
        "# adjust time stamp accordingly\n",
        "timestamp=\"2025-01-05_18:38:46\"\n",
        "evaluation_script = \"/content/PredPreyGrass/output/\"+timestamp+\"/eval/evaluate_ppo_from_file_aec_env.py\""
      ],
      "metadata": {
        "id": "opdq0PDXsA9w"
      },
      "id": "opdq0PDXsA9w",
      "execution_count": 8,
      "outputs": []
    },
    {
      "cell_type": "code",
      "source": [
        "!python {evaluation_script}"
      ],
      "metadata": {
        "id": "5PgtBezKswLx",
        "outputId": "14965546-b39f-4339-de44-818553c9c2d8",
        "colab": {
          "base_uri": "https://localhost:8080/"
        }
      },
      "id": "5PgtBezKswLx",
      "execution_count": 9,
      "outputs": [
        {
          "output_type": "stream",
          "name": "stdout",
          "text": [
            "2025-01-05 19:31:08.033478: E external/local_xla/xla/stream_executor/cuda/cuda_fft.cc:485] Unable to register cuFFT factory: Attempting to register factory for plugin cuFFT when one has already been registered\n",
            "2025-01-05 19:31:08.082660: E external/local_xla/xla/stream_executor/cuda/cuda_dnn.cc:8454] Unable to register cuDNN factory: Attempting to register factory for plugin cuDNN when one has already been registered\n",
            "2025-01-05 19:31:08.098206: E external/local_xla/xla/stream_executor/cuda/cuda_blas.cc:1452] Unable to register cuBLAS factory: Attempting to register factory for plugin cuBLAS when one has already been registered\n",
            "2025-01-05 19:31:08.138313: I tensorflow/core/platform/cpu_feature_guard.cc:210] This TensorFlow binary is optimized to use available CPU instructions in performance-critical operations.\n",
            "To enable the following instructions: AVX2 FMA, in other operations, rebuild TensorFlow with the appropriate compiler flags.\n",
            "2025-01-05 19:31:10.913195: W tensorflow/compiler/tf2tensorrt/utils/py_utils.cc:38] TF-TRT Warning: Could not find TensorRT\n",
            "-----------------------------------------------------------------------------\n",
            "Evaluation_directory:  /content/PredPreyGrass/output/2025-01-05_18:38:46/eval\n",
            "Destination_source_code_dir:  /content/PredPreyGrass/output/2025-01-05_18:38:46\n",
            "-----------------------------------------------------------------------------\n",
            "Start evaluation on: /content/PredPreyGrass/output/2025-01-05_18:38:46\n",
            "-----------------------------------------------------------------------------\n",
            "Evaluation results:\n",
            "-----------------------------------------------------------------------------\n",
            "Date and Time: 2025-01-05_19:31:13\n",
            "Environment: predpreygrass_aec_v0\n",
            "Grid transformation: bounded\n",
            "Learning algorithm: PPO\n",
            "loaded_policy: /content/PredPreyGrass/output/2025-01-05_18:38:46/output/predpreygrass_aec_v0_steps_11_468_800\n",
            "Training steps: 11_468_800\n",
            "Evaluation directory: /content/PredPreyGrass/output/2025-01-05_18:38:46\n",
            "-----------------------------------------------------------------------------\n",
            "\n",
            "Eps 0 Lngth = 10000 Strv Prd/cycl = 0.031 Strv Pry/cycl = 0.163 Eatn Pry/cycl = 0.276 Eatn Gra/cycl = 1.502 Brn Prd/cycl = 0.03 Brn Pry/cycle = 0.442 Mn age Prd = 183.4 Mn age Pry = 84.6\n",
            "\n",
            "Traceback (most recent call last):\n",
            "  File \"/content/PredPreyGrass/output/2025-01-05_18:38:46/eval/evaluate_ppo_from_file_aec_env.py\", line 61, in <module>\n",
            "    evaluator.parallel_wrapped_aec_env_training_aec_evaluation()\n",
            "  File \"/content/PredPreyGrass/output/2025-01-05_18:38:46/eval/utils/evaluator.py\", line 709, in parallel_wrapped_aec_env_training_aec_evaluation\n",
            "    env.step(action)\n",
            "  File \"/usr/local/lib/python3.10/dist-packages/pettingzoo/utils/wrappers/order_enforcing.py\", line 96, in step\n",
            "    super().step(action)\n",
            "  File \"/usr/local/lib/python3.10/dist-packages/pettingzoo/utils/wrappers/base.py\", line 47, in step\n",
            "    self.env.step(action)\n",
            "  File \"/usr/local/lib/python3.10/dist-packages/pettingzoo/utils/wrappers/assert_out_of_bounds.py\", line 26, in step\n",
            "    super().step(action)\n",
            "  File \"/usr/local/lib/python3.10/dist-packages/pettingzoo/utils/wrappers/base.py\", line 47, in step\n",
            "    self.env.step(action)\n",
            "  File \"/content/PredPreyGrass/predpreygrass/single_objective/envs/base_env/predpreygrass_aec.py\", line 61, in step\n",
            "    def step(self, action):\n",
            "KeyboardInterrupt\n"
          ]
        }
      ]
    },
    {
      "cell_type": "markdown",
      "source": [
        "## Step 7: Save project to Google Drive"
      ],
      "metadata": {
        "id": "KFSR462e9i4R"
      },
      "id": "KFSR462e9i4R"
    },
    {
      "cell_type": "code",
      "source": [
        "from google.colab import drive\n",
        "drive.mount('/content/drive')"
      ],
      "metadata": {
        "colab": {
          "base_uri": "https://localhost:8080/"
        },
        "id": "j-A3FSQ5tiEw",
        "outputId": "fd0ef4d6-4c13-4243-96b9-162226175ced"
      },
      "id": "j-A3FSQ5tiEw",
      "execution_count": 10,
      "outputs": [
        {
          "output_type": "stream",
          "name": "stdout",
          "text": [
            "Mounted at /content/drive\n"
          ]
        }
      ]
    },
    {
      "cell_type": "code",
      "source": [
        "import shutil\n",
        "\n",
        "# Source directory in Colab\n",
        "source_dir = '/content/PredPreyGrass'\n",
        "\n",
        "# Destination directory in Google Drive\n",
        "destination_dir = '/content/drive/My Drive/PredPreyGrass'\n",
        "\n",
        "# Copy the directory\n",
        "shutil.copytree(source_dir, destination_dir)\n",
        "\n",
        "print(f\"Directory copied to {destination_dir}\")\n"
      ],
      "metadata": {
        "colab": {
          "base_uri": "https://localhost:8080/"
        },
        "id": "ED-Zlj5E-UYb",
        "outputId": "de6d9fe1-abaf-43b5-cbc5-02b0c70b4504"
      },
      "id": "ED-Zlj5E-UYb",
      "execution_count": 12,
      "outputs": [
        {
          "output_type": "stream",
          "name": "stdout",
          "text": [
            "Directory copied to /content/drive/My Drive/PredPreyGrass\n"
          ]
        }
      ]
    },
    {
      "cell_type": "markdown",
      "source": [
        "## Step 8: Display population developments per episode\n",
        "\n",
        "The population developments per episode are saved to google drive into pdf's:\n",
        "\n",
        "\"/content/drive/MyDrive/PredPreyGrass/output/\"{timestamp}\"/output/population_charts/PredPreyPopulation_episode_{episode number}.pdf"
      ],
      "metadata": {
        "id": "Uk7xaoALu9U0"
      },
      "id": "Uk7xaoALu9U0"
    }
  ],
  "metadata": {
    "colab": {
      "provenance": [],
      "include_colab_link": true
    },
    "kernelspec": {
      "display_name": "Python 3",
      "name": "python3"
    },
    "language_info": {
      "codemirror_mode": {
        "name": "ipython",
        "version": 3
      },
      "file_extension": ".py",
      "mimetype": "text/x-python",
      "name": "python",
      "nbconvert_exporter": "python",
      "pygments_lexer": "ipython3",
      "version": "3.9.14"
    },
    "vscode": {
      "interpreter": {
        "hash": "ac2eaa0ea0ebeafcc7822e65e46aa9d4f966f30b695406963e145ea4a91cd4fc"
      }
    }
  },
  "nbformat": 4,
  "nbformat_minor": 5
}