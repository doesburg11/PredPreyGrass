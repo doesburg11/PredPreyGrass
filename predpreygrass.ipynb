{
  "cells": [
    {
      "cell_type": "markdown",
      "metadata": {
        "id": "view-in-github",
        "colab_type": "text"
      },
      "source": [
        "<a href=\"https://colab.research.google.com/github/doesburg11/PredPreyGrass/blob/main/predpreygrass.ipynb\" target=\"_parent\"><img src=\"https://colab.research.google.com/assets/colab-badge.svg\" alt=\"Open In Colab\"/></a>"
      ]
    },
    {
      "cell_type": "markdown",
      "source": [
        "# Predator-Prey-Grass MARL\n",
        "\n",
        "A Predator-Prey-Grass multi-agent gridworld environment implemented with Farama's Gymnasium, PettingZoo and MOMAland. Featuring dynamic spawning and deletion and partial observability of agents.\n",
        "\n",
        "Author: Peter van Doesburg\n",
        "\n",
        "https://github.com/doesburg11/PredPreyGrass\n",
        "\n"
      ],
      "metadata": {
        "id": "Ovnzh88NsJ2u"
      },
      "id": "Ovnzh88NsJ2u"
    },
    {
      "cell_type": "markdown",
      "id": "ab7f2ffc",
      "metadata": {
        "id": "ab7f2ffc"
      },
      "source": [
        "## Step 1: Clone the PredPreyGrass repository from GitHub"
      ]
    },
    {
      "cell_type": "code",
      "source": [
        "!git clone https://github.com/doesburg11/PredPreyGrass.git > /dev/null 2>&1"
      ],
      "metadata": {
        "id": "YxckAE2D604P"
      },
      "id": "YxckAE2D604P",
      "execution_count": 1,
      "outputs": []
    },
    {
      "cell_type": "markdown",
      "source": [
        "## Step 2: Set up conda environment"
      ],
      "metadata": {
        "id": "X0dWq5asHxDY"
      },
      "id": "X0dWq5asHxDY"
    },
    {
      "cell_type": "code",
      "source": [
        "%env PYTHONPATH=\n",
        "!wget -O miniconda.sh https://repo.anaconda.com/miniconda/Miniconda3-latest-Linux-x86_64.sh > /dev/null 2>&1\n",
        "!bash miniconda.sh -b -p /usr/local -u > /dev/null 2>&1"
      ],
      "metadata": {
        "colab": {
          "base_uri": "https://localhost:8080/"
        },
        "id": "T4wTYoDI7F9G",
        "outputId": "06dc116e-cf0e-4e8b-8f69-17d4493987a6"
      },
      "id": "T4wTYoDI7F9G",
      "execution_count": 2,
      "outputs": [
        {
          "output_type": "stream",
          "name": "stdout",
          "text": [
            "env: PYTHONPATH=\n"
          ]
        }
      ]
    },
    {
      "cell_type": "code",
      "execution_count": 3,
      "id": "846b9364",
      "metadata": {
        "id": "846b9364",
        "colab": {
          "base_uri": "https://localhost:8080/"
        },
        "outputId": "d44faa05-f22d-4f23-f750-0173aecb89b8"
      },
      "outputs": [
        {
          "output_type": "stream",
          "name": "stdout",
          "text": [
            "/content/PredPreyGrass\n"
          ]
        }
      ],
      "source": [
        "%cd PredPreyGrass"
      ]
    },
    {
      "cell_type": "markdown",
      "source": [
        "## Step 3: Install the PredPreyGrass package"
      ],
      "metadata": {
        "id": "ijd03JF48uCL"
      },
      "id": "ijd03JF48uCL"
    },
    {
      "cell_type": "code",
      "source": [
        "!pip install -e . > /dev/null 2>&1"
      ],
      "metadata": {
        "id": "ILYF_q_11qFn"
      },
      "id": "ILYF_q_11qFn",
      "execution_count": 4,
      "outputs": []
    },
    {
      "cell_type": "markdown",
      "source": [
        "## Step 4: Install additional requirements"
      ],
      "metadata": {
        "id": "1cl0jQi38asS"
      },
      "id": "1cl0jQi38asS"
    },
    {
      "cell_type": "code",
      "source": [
        "!pip install supersuit==3.9.3 > /dev/null 2>&1\n",
        "!pip install tensorboard==2.18.0 > /dev/null 2>&1\n",
        "!pip install stable-baselines3[extra] > /dev/null 2>&1\n",
        "!conda install -y -c conda-forge gcc=12.1.0 > /dev/null 2>&1"
      ],
      "metadata": {
        "id": "YT-fCJUcAfdR"
      },
      "id": "YT-fCJUcAfdR",
      "execution_count": 5,
      "outputs": []
    },
    {
      "cell_type": "code",
      "source": [
        "%env XDG_RUNTIME_DIR=/tmp/runtime-dir\n",
        "!mkdir -p /tmp/runtime-dir"
      ],
      "metadata": {
        "id": "zbryBHjp46qa",
        "outputId": "f82e967e-b017-40bf-9b1a-0bf3d818ea6f",
        "colab": {
          "base_uri": "https://localhost:8080/"
        }
      },
      "id": "zbryBHjp46qa",
      "execution_count": 6,
      "outputs": [
        {
          "output_type": "stream",
          "name": "stdout",
          "text": [
            "env: XDG_RUNTIME_DIR=/tmp/runtime-dir\n"
          ]
        }
      ]
    },
    {
      "cell_type": "markdown",
      "source": [
        "## Step 5: Evaluate the environment with a random policy"
      ],
      "metadata": {
        "id": "gFh0qUmP9ttl"
      },
      "id": "gFh0qUmP9ttl"
    },
    {
      "cell_type": "markdown",
      "source": [
        "The configuration of the environment can be adjusted in:  /content/PredPreyGrass/predpreygrass/single_objective/config/config_predpreygrass.py"
      ],
      "metadata": {
        "id": "80nHZzUVi0Yg"
      },
      "id": "80nHZzUVi0Yg"
    },
    {
      "cell_type": "code",
      "source": [
        "!python predpreygrass/single_objective/eval/evaluate_random_policy.py"
      ],
      "metadata": {
        "id": "0t-mlI7SB2jT"
      },
      "id": "0t-mlI7SB2jT",
      "execution_count": null,
      "outputs": []
    },
    {
      "cell_type": "markdown",
      "source": [
        "## Step 6: Train model and save to file"
      ],
      "metadata": {
        "id": "qbQ00o25-8C5"
      },
      "id": "qbQ00o25-8C5"
    },
    {
      "cell_type": "code",
      "source": [
        "from google.colab import drive\n",
        "drive.mount('/content/drive')"
      ],
      "metadata": {
        "colab": {
          "base_uri": "https://localhost:8080/"
        },
        "id": "j-A3FSQ5tiEw",
        "outputId": "50239603-afd0-42aa-bfbf-7c21d56d874b"
      },
      "id": "j-A3FSQ5tiEw",
      "execution_count": 14,
      "outputs": [
        {
          "output_type": "stream",
          "name": "stdout",
          "text": [
            "Mounted at /content/drive\n"
          ]
        }
      ]
    },
    {
      "cell_type": "code",
      "source": [
        "RESULTS_DIR = \"/content/drive/MyDrive\""
      ],
      "metadata": {
        "id": "dImACMYv3ZfZ"
      },
      "id": "dImACMYv3ZfZ",
      "execution_count": 15,
      "outputs": []
    },
    {
      "cell_type": "code",
      "source": [
        "!python predpreygrass/single_objective/train/train_ppo_parallel_wrapped_aec_env.py --output_dir {RESULTS_DIR}"
      ],
      "metadata": {
        "id": "uT2TglDdo0e0",
        "outputId": "d7a57e51-bf44-49a2-f13e-d79d8ced239f",
        "colab": {
          "base_uri": "https://localhost:8080/"
        }
      },
      "id": "uT2TglDdo0e0",
      "execution_count": null,
      "outputs": [
        {
          "output_type": "stream",
          "name": "stdout",
          "text": [
            "-----------------------------------------------------------------------------\n",
            "Destination source code: /content/drive/MyDrive/2024-12-24_21:29:46\n",
            "Configuration file directory: /content/drive/MyDrive/2024-12-24_21:29:46/config/\n",
            "-----------------------------------------------------------------------------\n",
            "Starting training on predpreygrass_aec_v0.\n",
            "\u001b[2K\u001b[35m   5%\u001b[0m \u001b[91m━━\u001b[0m\u001b[90m╺\u001b[0m\u001b[90m━━━━━━━━━━━━━━━━━━━━━━━━━━━━━━━━━━━━━━━━\u001b[0m \u001b[32m31,920/600,000 \u001b[0m [ \u001b[33m0:00:19\u001b[0m < \u001b[36m0:05:51\u001b[0m , \u001b[31m1,622 it/s\u001b[0m ]"
          ]
        }
      ]
    }
  ],
  "metadata": {
    "colab": {
      "provenance": [],
      "include_colab_link": true
    },
    "kernelspec": {
      "display_name": "Python 3",
      "name": "python3"
    },
    "language_info": {
      "codemirror_mode": {
        "name": "ipython",
        "version": 3
      },
      "file_extension": ".py",
      "mimetype": "text/x-python",
      "name": "python",
      "nbconvert_exporter": "python",
      "pygments_lexer": "ipython3",
      "version": "3.9.14"
    },
    "vscode": {
      "interpreter": {
        "hash": "ac2eaa0ea0ebeafcc7822e65e46aa9d4f966f30b695406963e145ea4a91cd4fc"
      }
    }
  },
  "nbformat": 4,
  "nbformat_minor": 5
}