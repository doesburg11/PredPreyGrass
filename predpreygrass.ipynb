{
  "cells": [
    {
      "cell_type": "markdown",
      "metadata": {
        "id": "view-in-github",
        "colab_type": "text"
      },
      "source": [
        "<a href=\"https://colab.research.google.com/github/doesburg11/PredPreyGrass/blob/main/predpreygrass.ipynb\" target=\"_parent\"><img src=\"https://colab.research.google.com/assets/colab-badge.svg\" alt=\"Open In Colab\"/></a>"
      ]
    },
    {
      "cell_type": "markdown",
      "source": [
        "# Predator-Prey-Grass MARL\n",
        "\n",
        "A Predator-Prey-Grass multi-agent gridworld environment implemented with Farama's Gymnasium, PettingZoo and MOMAland. Featuring dynamic spawning and deletion and partial observability of agents.\n",
        "\n",
        "Author: Peter van Doesburg\n",
        "\n",
        "https://github.com/doesburg11/PredPreyGrass\n",
        "\n"
      ],
      "metadata": {
        "id": "Ovnzh88NsJ2u"
      },
      "id": "Ovnzh88NsJ2u"
    },
    {
      "cell_type": "markdown",
      "id": "ab7f2ffc",
      "metadata": {
        "id": "ab7f2ffc"
      },
      "source": [
        "## Step 1: Clone the PredPreyGrass repository from GitHub"
      ]
    },
    {
      "cell_type": "code",
      "source": [
        "!git clone https://github.com/doesburg11/PredPreyGrass.git > /dev/null 2>&1"
      ],
      "metadata": {
        "id": "YxckAE2D604P"
      },
      "id": "YxckAE2D604P",
      "execution_count": 10,
      "outputs": []
    },
    {
      "cell_type": "markdown",
      "source": [
        "## Step 2: Set up conda environment"
      ],
      "metadata": {
        "id": "X0dWq5asHxDY"
      },
      "id": "X0dWq5asHxDY"
    },
    {
      "cell_type": "code",
      "source": [
        "%env PYTHONPATH=\n",
        "!wget -O miniconda.sh https://repo.anaconda.com/miniconda/Miniconda3-latest-Linux-x86_64.sh > /dev/null 2>&1\n",
        "!bash miniconda.sh -b -p /usr/local -u > /dev/null 2>&1"
      ],
      "metadata": {
        "colab": {
          "base_uri": "https://localhost:8080/"
        },
        "id": "T4wTYoDI7F9G",
        "outputId": "25d09924-7563-4587-daa3-5861bd30ec9b"
      },
      "id": "T4wTYoDI7F9G",
      "execution_count": 11,
      "outputs": [
        {
          "output_type": "stream",
          "name": "stdout",
          "text": [
            "env: PYTHONPATH=\n"
          ]
        }
      ]
    },
    {
      "cell_type": "code",
      "execution_count": 12,
      "id": "846b9364",
      "metadata": {
        "id": "846b9364",
        "colab": {
          "base_uri": "https://localhost:8080/"
        },
        "outputId": "ef60845b-2fed-43db-d368-b3a9d474f093"
      },
      "outputs": [
        {
          "output_type": "stream",
          "name": "stdout",
          "text": [
            "/content/PredPreyGrass\n"
          ]
        }
      ],
      "source": [
        "%cd PredPreyGrass"
      ]
    },
    {
      "cell_type": "markdown",
      "source": [
        "## Step 3: Install the PredPreyGrass package"
      ],
      "metadata": {
        "id": "ijd03JF48uCL"
      },
      "id": "ijd03JF48uCL"
    },
    {
      "cell_type": "code",
      "source": [
        "!pip install -e . > /dev/null 2>&1"
      ],
      "metadata": {
        "id": "ILYF_q_11qFn"
      },
      "id": "ILYF_q_11qFn",
      "execution_count": 13,
      "outputs": []
    },
    {
      "cell_type": "markdown",
      "source": [
        "## Step 4: Install additional requirements"
      ],
      "metadata": {
        "id": "1cl0jQi38asS"
      },
      "id": "1cl0jQi38asS"
    },
    {
      "cell_type": "code",
      "source": [
        "!pip install supersuit==3.9.3 > /dev/null 2>&1\n",
        "!pip install tensorboard==2.18.0 > /dev/null 2>&1\n",
        "!pip install stable-baselines3[extra] > /dev/null 2>&1\n",
        "!conda install -y -c conda-forge gcc=12.1.0 > /dev/null 2>&1"
      ],
      "metadata": {
        "id": "YT-fCJUcAfdR"
      },
      "id": "YT-fCJUcAfdR",
      "execution_count": 17,
      "outputs": []
    },
    {
      "cell_type": "code",
      "source": [
        "%env XDG_RUNTIME_DIR=/tmp/runtime-dir\n",
        "!mkdir -p /tmp/runtime-dir"
      ],
      "metadata": {
        "id": "zbryBHjp46qa",
        "colab": {
          "base_uri": "https://localhost:8080/"
        },
        "outputId": "1ca858c5-3743-4390-ace3-a88bfb228e0e"
      },
      "id": "zbryBHjp46qa",
      "execution_count": 18,
      "outputs": [
        {
          "output_type": "stream",
          "name": "stdout",
          "text": [
            "env: XDG_RUNTIME_DIR=/tmp/runtime-dir\n"
          ]
        }
      ]
    },
    {
      "cell_type": "markdown",
      "source": [
        "## Step 5: Evaluate the environment with a random policy"
      ],
      "metadata": {
        "id": "gFh0qUmP9ttl"
      },
      "id": "gFh0qUmP9ttl"
    },
    {
      "cell_type": "markdown",
      "source": [
        "The configuration of the environment can be adjusted in:  /content/PredPreyGrass/predpreygrass/single_objective/config/config_predpreygrass.py"
      ],
      "metadata": {
        "id": "80nHZzUVi0Yg"
      },
      "id": "80nHZzUVi0Yg"
    },
    {
      "cell_type": "code",
      "source": [
        "!python predpreygrass/single_objective/eval/evaluate_random_policy.py"
      ],
      "metadata": {
        "id": "0t-mlI7SB2jT",
        "colab": {
          "base_uri": "https://localhost:8080/"
        },
        "outputId": "fbc06a6f-5eb8-403a-a701-374d03a10431"
      },
      "id": "0t-mlI7SB2jT",
      "execution_count": 19,
      "outputs": [
        {
          "output_type": "stream",
          "name": "stdout",
          "text": [
            "agent: prey_19, reward: 10.0\n"
          ]
        }
      ]
    },
    {
      "cell_type": "markdown",
      "source": [
        "## Step 6: Train model and save to file"
      ],
      "metadata": {
        "id": "qbQ00o25-8C5"
      },
      "id": "qbQ00o25-8C5"
    },
    {
      "cell_type": "code",
      "source": [
        "from google.colab import drive\n",
        "drive.mount('/content/drive')"
      ],
      "metadata": {
        "colab": {
          "base_uri": "https://localhost:8080/"
        },
        "id": "j-A3FSQ5tiEw",
        "outputId": "1ef0485e-6f12-45a4-aee8-20b1661b9990"
      },
      "id": "j-A3FSQ5tiEw",
      "execution_count": 20,
      "outputs": [
        {
          "output_type": "stream",
          "name": "stdout",
          "text": [
            "Drive already mounted at /content/drive; to attempt to forcibly remount, call drive.mount(\"/content/drive\", force_remount=True).\n"
          ]
        }
      ]
    },
    {
      "cell_type": "code",
      "source": [
        "RESULTS_DIR = \"/content/drive/MyDrive\""
      ],
      "metadata": {
        "id": "dImACMYv3ZfZ"
      },
      "id": "dImACMYv3ZfZ",
      "execution_count": 21,
      "outputs": []
    },
    {
      "cell_type": "code",
      "source": [
        "!python predpreygrass/single_objective/train/train_ppo_parallel_wrapped_aec_env.py --output_dir {RESULTS_DIR}"
      ],
      "metadata": {
        "id": "uT2TglDdo0e0",
        "colab": {
          "base_uri": "https://localhost:8080/"
        },
        "outputId": "4690251a-a781-47aa-b1ba-7bd7a82586cb"
      },
      "id": "uT2TglDdo0e0",
      "execution_count": 22,
      "outputs": [
        {
          "output_type": "stream",
          "name": "stdout",
          "text": [
            "-----------------------------------------------------------------------------\n",
            "Destination source code: /content/drive/MyDrive/2024-12-24_23:00:25\n",
            "Configuration file directory: /content/drive/MyDrive/2024-12-24_23:00:25/config/\n",
            "-----------------------------------------------------------------------------\n",
            "Starting training on predpreygrass_aec_v0.\n",
            "\u001b[2K\u001b[35m 100%\u001b[0m \u001b[90m━━━━━━━━━━━━━━━━━━━━━━━━━━━━━━━━━━━━━━━━━━━━━━\u001b[0m \u001b[32m688,128/600,000 \u001b[0m [ \u001b[33m0:06:19\u001b[0m < \u001b[36m0:00:00\u001b[0m , \u001b[31m? it/s\u001b[0m ]\n",
            "\u001b[?25hSaved model to:  /content/drive/MyDrive/2024-12-24_23:00:25/output/predpreygrass_aec_v0_steps_600_000.zip\n",
            "Model has been saved.\n",
            "Finished training on predpreygrass_aec_v0.\n"
          ]
        }
      ]
    },
    {
      "cell_type": "markdown",
      "source": [
        "## Step 7: Evaluation trained model from file"
      ],
      "metadata": {
        "id": "Q4gpfPJzrLS3"
      },
      "id": "Q4gpfPJzrLS3"
    },
    {
      "cell_type": "markdown",
      "source": [
        "The trained model is now saved to a zip file on google drive, along with the file structure and configuration. To evaluate this model and the asociated configuration, manually fill in the correct timestamp below. This time stamp is also the directory which can be found in google drive."
      ],
      "metadata": {
        "id": "E-3xTQrArh74"
      },
      "id": "E-3xTQrArh74"
    },
    {
      "cell_type": "code",
      "source": [
        "# adjust time stamp accordingly\n",
        "timestamp=\"2024-12-24_23:00:25\"\n",
        "evaluation_file_and_path = \"/content/drive/MyDrive/\"+timestamp+\"/eval/evaluate_ppo_from_file_aec_env.py\""
      ],
      "metadata": {
        "id": "opdq0PDXsA9w"
      },
      "id": "opdq0PDXsA9w",
      "execution_count": 25,
      "outputs": []
    },
    {
      "cell_type": "code",
      "source": [
        "!python {evaluation_file_and_path}"
      ],
      "metadata": {
        "id": "5PgtBezKswLx",
        "outputId": "10832edb-4e78-4e3a-faf3-c4c9c5956460",
        "colab": {
          "base_uri": "https://localhost:8080/"
        }
      },
      "id": "5PgtBezKswLx",
      "execution_count": null,
      "outputs": [
        {
          "output_type": "stream",
          "name": "stdout",
          "text": [
            "----------------------------------------\n",
            "Evaluation_directory:  /content/drive/MyDrive/2024-12-24_23:00:25/eval\n",
            "Destination_source_code_dir:  /content/drive/MyDrive/2024-12-24_23:00:25\n",
            "----------------------------------------\n",
            "Start evaluation on: /content/drive/MyDrive/2024-12-24_23:00:25\n",
            "Evaluation results:\n",
            "--------------------------\n",
            "Date and Time: 2024-12-24_23:16:29\n",
            "Environment: predpreygrass_aec_v0\n",
            "Grid transformation: bounded\n",
            "Learning algorithm: PPOloaded_policy: /content/drive/MyDrive/2024-12-24_23:00:25/output/predpreygrass_aec_v0_steps_600_000\n",
            "Training steps: 600_000\n",
            "Evaluation directory: /content/drive/MyDrive/2024-12-24_23:00:25\n",
            "--------------------------\n",
            "\n",
            "Eps 0 Lngth = 4062 Strv Prd/cycl = 0.073 Strv Pry/cycl = 0.024 Eatn Pry/cycl = 0.282 Eatn Gra/cycl = 0.997 Brn Prd/cycl = 0.072 Brn Pry/cycle = 0.31 Mn age Prd = 131.6 Mn age Pry = 71.9\n",
            "\n",
            "Eps 1 Lngth = 10000 Strv Prd/cycl = 0.083 Strv Pry/cycl = 0.019 Eatn Pry/cycl = 0.323 Eatn Gra/cycl = 1.002 Brn Prd/cycl = 0.084 Brn Pry/cycle = 0.343 Mn age Prd = 126.0 Mn age Pry = 64.8\n",
            "\n",
            "Eps 2 Lngth = 281 Strv Prd/cycl = 0.068 Strv Pry/cycl = 0.007 Eatn Pry/cycl = 0.178 Eatn Gra/cycl = 1.043 Brn Prd/cycl = 0.046 Brn Pry/cycle = 0.242 Mn age Prd = 91.4 Mn age Pry = 56.4\n",
            "\n",
            "Eps 3 Lngth = 10000 Strv Prd/cycl = 0.085 Strv Pry/cycl = 0.02 Eatn Pry/cycl = 0.307 Eatn Gra/cycl = 1.008 Brn Prd/cycl = 0.086 Brn Pry/cycle = 0.329 Mn age Prd = 123.8 Mn age Pry = 68.2\n",
            "\n",
            "Eps 4 Lngth = 484 Strv Prd/cycl = 0.064 Strv Pry/cycl = 0.012 Eatn Pry/cycl = 0.231 Eatn Gra/cycl = 0.957 Brn Prd/cycl = 0.052 Brn Pry/cycle = 0.277 Mn age Prd = 133.5 Mn age Pry = 63.4\n",
            "\n"
          ]
        }
      ]
    },
    {
      "cell_type": "markdown",
      "source": [
        "## Step 8: Display population developments per episode\n",
        "The population developments per episode are saved to google drive into pdf's:\n",
        "\n",
        "\"/content/drive/MyDrive/\"{timestamp}\"/output/population_charts/PredPreyPopulation_episode_{episode number}.pdf"
      ],
      "metadata": {
        "id": "Uk7xaoALu9U0"
      },
      "id": "Uk7xaoALu9U0"
    }
  ],
  "metadata": {
    "colab": {
      "provenance": [],
      "toc_visible": true,
      "include_colab_link": true
    },
    "kernelspec": {
      "display_name": "Python 3",
      "name": "python3"
    },
    "language_info": {
      "codemirror_mode": {
        "name": "ipython",
        "version": 3
      },
      "file_extension": ".py",
      "mimetype": "text/x-python",
      "name": "python",
      "nbconvert_exporter": "python",
      "pygments_lexer": "ipython3",
      "version": "3.9.14"
    },
    "vscode": {
      "interpreter": {
        "hash": "ac2eaa0ea0ebeafcc7822e65e46aa9d4f966f30b695406963e145ea4a91cd4fc"
      }
    }
  },
  "nbformat": 4,
  "nbformat_minor": 5
}