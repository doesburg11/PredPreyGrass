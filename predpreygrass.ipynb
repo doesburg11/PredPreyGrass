{
  "cells": [
    {
      "cell_type": "markdown",
      "metadata": {
        "id": "view-in-github",
        "colab_type": "text"
      },
      "source": [
        "<a href=\"https://colab.research.google.com/github/doesburg11/PredPreyGrass/blob/main/predpreygrass.ipynb\" target=\"_parent\"><img src=\"https://colab.research.google.com/assets/colab-badge.svg\" alt=\"Open In Colab\"/></a>"
      ]
    },
    {
      "cell_type": "markdown",
      "source": [
        "# Predator-Prey-Grass MARL\n",
        "\n",
        "Author: Peter van Doesburg\n",
        "\n",
        "https://github.com/doesburg11/PredPreyGrass\n",
        "\n"
      ],
      "metadata": {
        "id": "Ovnzh88NsJ2u"
      },
      "id": "Ovnzh88NsJ2u"
    },
    {
      "cell_type": "markdown",
      "id": "ab7f2ffc",
      "metadata": {
        "id": "ab7f2ffc"
      },
      "source": [
        "## Step 1: Clone the PredPreyGrass repository from GitHub"
      ]
    },
    {
      "cell_type": "code",
      "source": [
        "!git clone https://github.com/doesburg11/PredPreyGrass.git > /dev/null 2>&1"
      ],
      "metadata": {
        "id": "YxckAE2D604P"
      },
      "id": "YxckAE2D604P",
      "execution_count": null,
      "outputs": []
    },
    {
      "cell_type": "markdown",
      "source": [
        "## Step 2: Set up conda environment"
      ],
      "metadata": {
        "id": "X0dWq5asHxDY"
      },
      "id": "X0dWq5asHxDY"
    },
    {
      "cell_type": "code",
      "source": [
        "%env PYTHONPATH=\n",
        "!wget -O miniconda.sh https://repo.anaconda.com/miniconda/Miniconda3-latest-Linux-x86_64.sh > /dev/null 2>&1\n",
        "!bash miniconda.sh -b -p /usr/local -u > /dev/null 2>&1"
      ],
      "metadata": {
        "colab": {
          "base_uri": "https://localhost:8080/"
        },
        "id": "T4wTYoDI7F9G",
        "outputId": "f87b4f5b-b3bc-49bd-e34a-d8d7fac5c70d"
      },
      "id": "T4wTYoDI7F9G",
      "execution_count": null,
      "outputs": [
        {
          "output_type": "stream",
          "name": "stdout",
          "text": [
            "env: PYTHONPATH=\n"
          ]
        }
      ]
    },
    {
      "cell_type": "code",
      "execution_count": null,
      "id": "846b9364",
      "metadata": {
        "id": "846b9364",
        "colab": {
          "base_uri": "https://localhost:8080/"
        },
        "outputId": "c8d4bd15-703b-46cf-b771-020a7696d6b1"
      },
      "outputs": [
        {
          "output_type": "stream",
          "name": "stdout",
          "text": [
            "/content/PredPreyGrass\n"
          ]
        }
      ],
      "source": [
        "%cd PredPreyGrass"
      ]
    },
    {
      "cell_type": "markdown",
      "source": [
        "## Step 3: Install the PredPreyGrass package"
      ],
      "metadata": {
        "id": "ijd03JF48uCL"
      },
      "id": "ijd03JF48uCL"
    },
    {
      "cell_type": "code",
      "source": [
        "!pip install -e . > /dev/null 2>&1"
      ],
      "metadata": {
        "id": "ILYF_q_11qFn"
      },
      "id": "ILYF_q_11qFn",
      "execution_count": null,
      "outputs": []
    },
    {
      "cell_type": "markdown",
      "source": [
        "## Step 4: Install additional requirements"
      ],
      "metadata": {
        "id": "1cl0jQi38asS"
      },
      "id": "1cl0jQi38asS"
    },
    {
      "cell_type": "code",
      "source": [
        "!pip install supersuit==3.9.3 > /dev/null 2>&1\n",
        "!pip install tensorboard==2.18.0 > /dev/null 2>&1\n",
        "!pip install tensorboard==2.18.0 > /dev/null 2>&1\n",
        "!pip install stable-baselines3[extra] > /dev/null 2>&1\n",
        "!conda install -y -c conda-forge gcc=12.1.0 > /dev/null 2>&1"
      ],
      "metadata": {
        "id": "YT-fCJUcAfdR"
      },
      "id": "YT-fCJUcAfdR",
      "execution_count": null,
      "outputs": []
    },
    {
      "cell_type": "code",
      "source": [
        "%env XDG_RUNTIME_DIR=/tmp/runtime-dir\n",
        "!mkdir -p /tmp/runtime-dir"
      ],
      "metadata": {
        "id": "zbryBHjp46qa"
      },
      "id": "zbryBHjp46qa",
      "execution_count": null,
      "outputs": []
    },
    {
      "cell_type": "markdown",
      "source": [
        "## Step 5: Evaluate the environment with a random policy"
      ],
      "metadata": {
        "id": "gFh0qUmP9ttl"
      },
      "id": "gFh0qUmP9ttl"
    },
    {
      "cell_type": "code",
      "source": [
        "!python predpreygrass/single_objective/eval/evaluate_random_policy.py"
      ],
      "metadata": {
        "id": "0t-mlI7SB2jT"
      },
      "id": "0t-mlI7SB2jT",
      "execution_count": null,
      "outputs": []
    },
    {
      "cell_type": "markdown",
      "source": [
        "## Step 6: Train model and save to file"
      ],
      "metadata": {
        "id": "qbQ00o25-8C5"
      },
      "id": "qbQ00o25-8C5"
    },
    {
      "cell_type": "code",
      "source": [
        "from google.colab import drive\n",
        "drive.mount('/content/drive')"
      ],
      "metadata": {
        "colab": {
          "base_uri": "https://localhost:8080/"
        },
        "id": "j-A3FSQ5tiEw",
        "outputId": "2603f03d-4d6a-4315-f852-6183aa9bf76b"
      },
      "id": "j-A3FSQ5tiEw",
      "execution_count": null,
      "outputs": [
        {
          "output_type": "stream",
          "name": "stdout",
          "text": [
            "Mounted at /content/drive\n"
          ]
        }
      ]
    },
    {
      "cell_type": "code",
      "source": [
        "RESULTS_DIR = \"/content/drive/MyDrive\""
      ],
      "metadata": {
        "id": "dImACMYv3ZfZ"
      },
      "id": "dImACMYv3ZfZ",
      "execution_count": null,
      "outputs": []
    },
    {
      "cell_type": "code",
      "source": [
        "!python predpreygrass/single_objective/train/train_ppo_parallel_wrapped_aec_env_dir_arg.py --output_dir {RESULTS_DIR}"
      ],
      "metadata": {
        "id": "uT2TglDdo0e0"
      },
      "id": "uT2TglDdo0e0",
      "execution_count": null,
      "outputs": []
    }
  ],
  "metadata": {
    "colab": {
      "provenance": [],
      "gpuType": "V28",
      "include_colab_link": true
    },
    "kernelspec": {
      "display_name": "Python 3",
      "name": "python3"
    },
    "language_info": {
      "codemirror_mode": {
        "name": "ipython",
        "version": 3
      },
      "file_extension": ".py",
      "mimetype": "text/x-python",
      "name": "python",
      "nbconvert_exporter": "python",
      "pygments_lexer": "ipython3",
      "version": "3.9.14"
    },
    "vscode": {
      "interpreter": {
        "hash": "ac2eaa0ea0ebeafcc7822e65e46aa9d4f966f30b695406963e145ea4a91cd4fc"
      }
    },
    "accelerator": "TPU"
  },
  "nbformat": 4,
  "nbformat_minor": 5
}